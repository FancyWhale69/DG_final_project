{
 "cells": [
  {
   "cell_type": "markdown",
   "id": "fbf30ecf",
   "metadata": {},
   "source": [
    "# Attribute Information:\n",
    "\n",
    "## Input variables:\n",
    "### bank client data:\n",
    "1 - age (numeric)  \n",
    "2 - job : type of job (categorical: 'admin.','blue-collar','entrepreneur','housemaid','management','retired','self-employed','services','student','technician','unemployed','unknown')  \n",
    "3 - marital : marital status (categorical: 'divorced','married','single','unknown'; note: 'divorced' means divorced or widowed)  \n",
    "4 - education (categorical: 'basic.4y','basic.6y','basic.9y','high.school','illiterate','professional.course','university.degree','unknown')  \n",
    "5 - default: has credit in default? (categorical: 'no','yes','unknown')  \n",
    "6 - housing: has housing loan? (categorical: 'no','yes','unknown')  \n",
    "7 - loan: has personal loan? (categorical: 'no','yes','unknown')  \n",
    "### related with the last contact of the current campaign:\n",
    "8 - contact: contact communication type (categorical: 'cellular','telephone')  \n",
    "9 - month: last contact month of year (categorical: 'jan', 'feb', 'mar', ..., 'nov', 'dec')  \n",
    "10 - day_of_week: last contact day of the week (categorical: 'mon','tue','wed','thu','fri')  \n",
    "11 - duration: last contact duration, in seconds (numeric). Important note: this attribute highly affects the output target (e.g., if duration=0 then y='no'). Yet, the duration is not known before a call is performed. Also, after the end of the call y is obviously known. Thus, this input should only be included for benchmark purposes and should be discarded if the intention is to have a realistic predictive model.  \n",
    "### other attributes:\n",
    "12 - campaign: number of contacts performed during this campaign and for this client (numeric, includes last contact)  \n",
    "13 - pdays: number of days that passed by after the client was last contacted from a previous campaign (numeric; 999 means client was not previously contacted)  \n",
    "14 - previous: number of contacts performed before this campaign and for this client (numeric)  \n",
    "15 - poutcome: outcome of the previous marketing campaign (categorical: 'failure','nonexistent','success')  \n",
    "### social and economic context attributes\n",
    "16 - emp.var.rate: employment variation rate - quarterly indicator (numeric)  \n",
    "17 - cons.price.idx: consumer price index - monthly indicator (numeric)  \n",
    "18 - cons.conf.idx: consumer confidence index - monthly indicator (numeric)  \n",
    "19 - euribor3m: euribor 3 month rate - daily indicator (numeric)  \n",
    "20 - nr.employed: number of employees - quarterly indicator (numeric)  \n",
    "\n",
    "### Output variable (desired target):\n",
    "21 - y - has the client subscribed a term deposit? (binary: 'yes','no')  "
   ]
  },
  {
   "cell_type": "code",
   "execution_count": 1,
   "id": "937af570",
   "metadata": {},
   "outputs": [],
   "source": [
    "import numpy as np\n",
    "import pandas as pd"
   ]
  },
  {
   "cell_type": "code",
   "execution_count": 2,
   "id": "3641d4fc",
   "metadata": {},
   "outputs": [],
   "source": [
    "df= pd.read_csv('bank-full.csv', sep=';')"
   ]
  },
  {
   "cell_type": "code",
   "execution_count": 3,
   "id": "6d8a2986",
   "metadata": {},
   "outputs": [
    {
     "data": {
      "text/plain": [
       "age          0\n",
       "job          0\n",
       "marital      0\n",
       "education    0\n",
       "default      0\n",
       "balance      0\n",
       "housing      0\n",
       "loan         0\n",
       "contact      0\n",
       "day          0\n",
       "month        0\n",
       "duration     0\n",
       "campaign     0\n",
       "pdays        0\n",
       "previous     0\n",
       "poutcome     0\n",
       "y            0\n",
       "dtype: int64"
      ]
     },
     "execution_count": 3,
     "metadata": {},
     "output_type": "execute_result"
    }
   ],
   "source": [
    "# check for nulls\n",
    "df.isnull().sum()"
   ]
  },
  {
   "cell_type": "markdown",
   "id": "0c2abae8",
   "metadata": {},
   "source": [
    "## investgate the diffrence between unknown and other in poutcomes column"
   ]
  },
  {
   "cell_type": "code",
   "execution_count": 4,
   "id": "50f9a85a",
   "metadata": {},
   "outputs": [
    {
     "data": {
      "text/plain": [
       "-1      36954\n",
       " 416        1\n",
       " 98         1\n",
       " 168        1\n",
       " 528        1\n",
       " 188        1\n",
       "Name: pdays, dtype: int64"
      ]
     },
     "execution_count": 4,
     "metadata": {},
     "output_type": "execute_result"
    }
   ],
   "source": [
    "df[df['poutcome']=='unknown']['pdays'].value_counts()"
   ]
  },
  {
   "cell_type": "code",
   "execution_count": 5,
   "id": "5fd95040",
   "metadata": {},
   "outputs": [
    {
     "data": {
      "text/plain": [
       "2      35\n",
       "8      23\n",
       "364    21\n",
       "343    21\n",
       "182    19\n",
       "       ..\n",
       "106     1\n",
       "73      1\n",
       "71      1\n",
       "69      1\n",
       "838     1\n",
       "Name: pdays, Length: 386, dtype: int64"
      ]
     },
     "execution_count": 5,
     "metadata": {},
     "output_type": "execute_result"
    }
   ],
   "source": [
    "df[df['poutcome']=='other']['pdays'].value_counts()"
   ]
  },
  {
   "cell_type": "markdown",
   "id": "6c027e4d",
   "metadata": {},
   "source": [
    "The 'unknown' tag is mostly related to clients who have not been in any previous campaigns, while the 'other' is relateed to clints where the campaign didn't work and didn't fail."
   ]
  },
  {
   "cell_type": "markdown",
   "id": "99d00724",
   "metadata": {},
   "source": [
    "# convert object data"
   ]
  },
  {
   "cell_type": "code",
   "execution_count": 32,
   "id": "dbf32adc",
   "metadata": {},
   "outputs": [],
   "source": [
    "# create dummies and merge them with df\n",
    "a= pd.get_dummies(df[['job', 'marital', 'education', 'poutcome', 'contact']], drop_first=True)\n",
    "df= pd.concat([df,a], axis=1)\n",
    "df.drop(['job','marital', 'education', 'poutcome', 'contact'], axis=1, inplace=True)"
   ]
  },
  {
   "cell_type": "code",
   "execution_count": 39,
   "id": "8ff86715",
   "metadata": {},
   "outputs": [],
   "source": [
    "# convert 'yes', 'no' to 1 and 0\n",
    "for i in df.select_dtypes('object').columns[:-2]:\n",
    "    df[i]= df[i].apply(lambda x : 1 if x=='yes' else 0)"
   ]
  },
  {
   "cell_type": "code",
   "execution_count": 46,
   "id": "4a58b776",
   "metadata": {},
   "outputs": [],
   "source": [
    "# group every 3 months into one group. \n",
    "df['month']= df['month'].apply(lambda x : 1 if x in ['jan', 'feb', 'mar'] else (2 if x in ['apr', 'may', 'jun'] else (3 if x in ['jul', 'aug','sep'] else 4) ) )"
   ]
  },
  {
   "cell_type": "code",
   "execution_count": 49,
   "id": "f0c5f1ee",
   "metadata": {},
   "outputs": [],
   "source": [
    "# save new df\n",
    "df.to_csv('bank-clean.csv')"
   ]
  },
  {
   "cell_type": "code",
   "execution_count": null,
   "id": "9e4b7846",
   "metadata": {},
   "outputs": [],
   "source": []
  }
 ],
 "metadata": {
  "kernelspec": {
   "display_name": "Python 3",
   "language": "python",
   "name": "python3"
  },
  "language_info": {
   "codemirror_mode": {
    "name": "ipython",
    "version": 3
   },
   "file_extension": ".py",
   "mimetype": "text/x-python",
   "name": "python",
   "nbconvert_exporter": "python",
   "pygments_lexer": "ipython3",
   "version": "3.8.8"
  }
 },
 "nbformat": 4,
 "nbformat_minor": 5
}
